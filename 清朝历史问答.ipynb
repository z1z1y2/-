{
 "cells": [
  {
   "cell_type": "code",
   "execution_count": 19,
   "id": "2a0b05be",
   "metadata": {},
   "outputs": [
    {
     "name": "stdout",
     "output_type": "stream",
     "text": [
      "用户问题: 清朝的建立时间是什么时候？\n",
      "答案: 清朝的建立时间是1636年，由皇太极改国号为清。\n"
     ]
    }
   ],
   "source": [
    "import os\n",
    "import json\n",
    "\n",
    "def load_history_knowledge_base(file_path):\n",
    "    \"\"\"加载知识库\"\"\"\n",
    "    try:\n",
    "        with open(file_path, 'r', encoding='utf-8') as file:\n",
    "            knowledge_base = json.load(file)\n",
    "        return knowledge_base\n",
    "    except FileNotFoundError:\n",
    "        print(f\"错误：文件 {file_path} 不存在。\")\n",
    "        return None\n",
    "    except json.JSONDecodeError:\n",
    "        print(f\"错误：文件 {file_path} 不是有效的JSON格式。\")\n",
    "        return None\n",
    "\n",
    "def search_answer(knowledge_base, user_question):\n",
    "    \"\"\"根据用户问题检索答案\"\"\"\n",
    "    user_question = user_question.lower()\n",
    "    for item in knowledge_base:\n",
    "        if user_question in item['question'].lower():\n",
    "            return item['answer']\n",
    "    return \"抱歉，我没有找到相关的答案。\"\n",
    "\n",
    "# 知识库文件路径\n",
    "knowledge_base_file = r'C:\\Users\\admin\\Desktop\\load_historyknowledge_base.json'\n",
    "\n",
    "# 加载知识库\n",
    "knowledge_base = load_history_knowledge_base(knowledge_base_file)\n",
    "\n",
    "if knowledge_base is not None:\n",
    "    # 用户输入的问题\n",
    "    user_question = \"清朝的建立时间是什么时候？\"\n",
    "    # 检索答案\n",
    "    answer = search_answer(knowledge_base, user_question)\n",
    "    print(\"用户问题:\", user_question)\n",
    "    print(\"答案:\", answer)\n",
    "else:\n",
    "    # 如果知识库加载失败，不执行问答部分\n",
    "    pass"
   ]
  },
  {
   "cell_type": "code",
   "execution_count": null,
   "id": "b526cad7",
   "metadata": {},
   "outputs": [],
   "source": [
    "from langchain.document_loaders import JSONLoader\n",
    "\n",
    "# 知识库文件路径\n",
    "knowledge_base_file = r'C:\\Users\\admin\\Desktop\\load_historyknowledge_base.json'\n",
    "\n",
    "# 使用LangChain加载知识库，提供jq_schema参数\n",
    "jq_schema = '.[] | {question, answer}'\n",
    "loader = JSONLoader(file_path=knowledge_base_file, jq_schema=jq_schema, text_content=False)\n",
    "\n",
    "# 加载知识库\n",
    "knowledge_base = loader.load()\n",
    "\n",
    "def search_answer(knowledge_base, user_question):\n",
    "    \"\"\"根据用户问题检索答案\"\"\"\n",
    "    user_question = user_question.lower()\n",
    "    for item in knowledge_base:\n",
    "        # 假设item.content是一个字典，包含'question'和'answer'键\n",
    "        question = item.content.get('question', '').lower()\n",
    "        answer = item.content.get('answer', '').lower()\n",
    "        if user_question in question or user_question in answer:\n",
    "            return item.content.get('answer', \"抱歉，我没有找到相关的答案。\")\n",
    "    return \"抱歉，我没有找到相关的答案。\"\n",
    "\n",
    "def generate_qa_pair(question, knowledge_base):\n",
    "    \"\"\"生成问答对\"\"\"\n",
    "    answer = search_answer(knowledge_base, question)\n",
    "    return question, answer\n",
    "\n",
    "# 用户输入的问题\n",
    "user_question = input(\"请输入你的问题：\")\n",
    "\n",
    "# 生成问答对\n",
    "qa_pair = generate_qa_pair(user_question, knowledge_base)\n",
    "\n",
    "# 打印问答对\n",
    "print(\"用户问题:\", qa_pair[0])\n",
    "print(\"答案:\", qa_pair[1])\n",
    "print(item.content)"
   ]
  },
  {
   "cell_type": "code",
   "execution_count": null,
   "id": "cc665696",
   "metadata": {},
   "outputs": [],
   "source": []
  },
  {
   "cell_type": "code",
   "execution_count": null,
   "id": "9fbea871",
   "metadata": {},
   "outputs": [],
   "source": []
  }
 ],
 "metadata": {
  "kernelspec": {
   "display_name": "Python 3 (ipykernel)",
   "language": "python",
   "name": "python3"
  },
  "language_info": {
   "codemirror_mode": {
    "name": "ipython",
    "version": 3
   },
   "file_extension": ".py",
   "mimetype": "text/x-python",
   "name": "python",
   "nbconvert_exporter": "python",
   "pygments_lexer": "ipython3",
   "version": "3.9.7"
  }
 },
 "nbformat": 4,
 "nbformat_minor": 5
}
